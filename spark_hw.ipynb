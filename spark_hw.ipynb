{
  "nbformat": 4,
  "nbformat_minor": 0,
  "metadata": {
    "colab": {
      "provenance": []
    },
    "kernelspec": {
      "name": "python3",
      "display_name": "Python 3"
    },
    "language_info": {
      "name": "python"
    }
  },
  "cells": [
    {
      "cell_type": "code",
      "execution_count": 89,
      "metadata": {
        "id": "ioi1b4hPNulB"
      },
      "outputs": [],
      "source": [
        "import pandas as pd\n",
        "import numpy as np\n",
        "import matplotlib.pyplot as plt\n",
        "import seaborn as sns\n",
        "from pyspark.sql import SparkSession\n",
        "from pyspark.sql.types import StructType, StructField, IntegerType, DoubleType\n",
        "from pyspark.ml.feature import VectorAssembler\n",
        "from pyspark.ml.classification import (RandomForestClassifier,\n",
        "                                       DecisionTreeClassifier,\n",
        "                                       LogisticRegression,\n",
        "                                       GBTClassifier,\n",
        "                                       NaiveBayes,\n",
        "                                       OneVsRest) #we need OneVsRest, because GBTClassifier only works for binary classification\n",
        "from pyspark.ml.evaluation import MulticlassClassificationEvaluator\n",
        "from pyspark.ml.tuning import CrossValidator, ParamGridBuilder\n",
        "from pyspark.sql import Row"
      ]
    },
    {
      "cell_type": "code",
      "source": [
        "spark = SparkSession.builder.appName(\"LeafClassifier\").getOrCreate()"
      ],
      "metadata": {
        "id": "fhpwUeYSPzDy"
      },
      "execution_count": 90,
      "outputs": []
    },
    {
      "cell_type": "code",
      "source": [
        "schema = StructType([\n",
        "    StructField(\"class\", IntegerType(), True),\n",
        "    StructField(\"specimen_id\", IntegerType(), True)\n",
        "] + [StructField(f\"feature_{i+1}\", DoubleType(), True) for i in range(14)])\n"
      ],
      "metadata": {
        "id": "ucRdA3mlQLlN"
      },
      "execution_count": 91,
      "outputs": []
    },
    {
      "cell_type": "code",
      "source": [
        "df = spark.read.csv(\"leaf.csv\", schema=schema, header=False).drop(\"specimen_id\")"
      ],
      "metadata": {
        "id": "WnTVRG5kQRY0"
      },
      "execution_count": 92,
      "outputs": []
    },
    {
      "cell_type": "code",
      "source": [
        "\n",
        "assembler = VectorAssembler(inputCols=[f\"feature_{i+1}\" for i in range(14)], outputCol=\"features\")\n",
        "df = assembler.transform(df).select(\"features\", \"class\")\n",
        "\n",
        "\n"
      ],
      "metadata": {
        "id": "4FbMEIcIQTxr"
      },
      "execution_count": 93,
      "outputs": []
    },
    {
      "cell_type": "code",
      "source": [
        "train, test = df.randomSplit([0.8, 0.2], seed=42)"
      ],
      "metadata": {
        "id": "rUFhBE8LQolL"
      },
      "execution_count": 94,
      "outputs": []
    },
    {
      "cell_type": "code",
      "source": [
        "evaluator = MulticlassClassificationEvaluator(labelCol=\"class\", predictionCol=\"prediction\", metricName=\"accuracy\")\n",
        "results = []"
      ],
      "metadata": {
        "id": "JvbWrvmaQrFj"
      },
      "execution_count": 95,
      "outputs": []
    },
    {
      "cell_type": "code",
      "source": [
        "#model 1: Decision Tree\n",
        "dt = DecisionTreeClassifier(labelCol=\"class\", featuresCol=\"features\")\n",
        "paramGrid_dt = ParamGridBuilder().addGrid(dt.maxDepth, [3, 5, 10]).build()\n",
        "cv_dt = CrossValidator(estimator=dt, estimatorParamMaps=paramGrid_dt, evaluator=evaluator, numFolds=3)\n",
        "dt_model = cv_dt.fit(train)\n",
        "best_dt = dt_model.bestModel\n",
        "acc_dt = evaluator.evaluate(dt_model.transform(test))\n",
        "results.append(Row(Method=\"Decision Tree\", Parameters=f\"maxDepth={best_dt.getOrDefault('maxDepth')}\", Accuracy=round(acc_dt, 4)))\n"
      ],
      "metadata": {
        "id": "b0fUkVXZRPjF"
      },
      "execution_count": 96,
      "outputs": []
    },
    {
      "cell_type": "code",
      "source": [
        "acc_dt"
      ],
      "metadata": {
        "colab": {
          "base_uri": "https://localhost:8080/"
        },
        "id": "svSIbEEZS5Io",
        "outputId": "d5f3fe1b-ebb4-409d-a63b-c8cc4aec2977"
      },
      "execution_count": 97,
      "outputs": [
        {
          "output_type": "execute_result",
          "data": {
            "text/plain": [
              "0.6346153846153846"
            ]
          },
          "metadata": {},
          "execution_count": 97
        }
      ]
    },
    {
      "cell_type": "code",
      "source": [
        "#model 2: Random Forest\n",
        "rf = RandomForestClassifier(labelCol=\"class\", featuresCol=\"features\")\n",
        "paramGrid_rf = ParamGridBuilder().addGrid(rf.numTrees, [10, 30]).build()\n",
        "cv_rf = CrossValidator(estimator=rf, estimatorParamMaps=paramGrid_rf, evaluator=evaluator, numFolds=3)\n",
        "rf_model = cv_rf.fit(train)\n",
        "best_rf = rf_model.bestModel\n",
        "acc_rf = evaluator.evaluate(rf_model.transform(test))\n",
        "results.append(Row(Method=\"Random Forest\", Parameters=f\"numTrees={best_rf.getNumTrees}\", Accuracy=round(acc_rf, 4)))\n"
      ],
      "metadata": {
        "id": "B5viQ9mhRwfD"
      },
      "execution_count": 98,
      "outputs": []
    },
    {
      "cell_type": "code",
      "source": [
        "acc_rf"
      ],
      "metadata": {
        "colab": {
          "base_uri": "https://localhost:8080/"
        },
        "id": "dcmeqE1hSuOJ",
        "outputId": "34e17b6d-695a-4f58-9c50-e3aa5075f413"
      },
      "execution_count": 99,
      "outputs": [
        {
          "output_type": "execute_result",
          "data": {
            "text/plain": [
              "0.6730769230769231"
            ]
          },
          "metadata": {},
          "execution_count": 99
        }
      ]
    },
    {
      "cell_type": "code",
      "source": [
        "#model 3: Logistic Regression\n",
        "lr = LogisticRegression(labelCol=\"class\", featuresCol=\"features\", maxIter=100)\n",
        "paramGrid_lr = ParamGridBuilder().addGrid(lr.regParam, [0.01, 0.1]).build()\n",
        "cv_lr = CrossValidator(estimator=lr, estimatorParamMaps=paramGrid_lr, evaluator=evaluator, numFolds=3)\n",
        "lr_model = cv_lr.fit(train)\n",
        "best_lr = lr_model.bestModel\n",
        "\n",
        "acc_lr = evaluator.evaluate(lr_model.transform(test))\n",
        "results.append(Row(Method=\"Logistic Regression\", Parameters=f\"regParam={best_lr.getRegParam()}\", Accuracy=round(acc_lr, 4)))\n",
        "\n"
      ],
      "metadata": {
        "id": "k8rIumjoSh_3"
      },
      "execution_count": 100,
      "outputs": []
    },
    {
      "cell_type": "code",
      "source": [
        "acc_lr"
      ],
      "metadata": {
        "colab": {
          "base_uri": "https://localhost:8080/"
        },
        "id": "WZpZTcsTS1IJ",
        "outputId": "4868144e-7e73-4a32-9520-2324dd65e032"
      },
      "execution_count": 101,
      "outputs": [
        {
          "output_type": "execute_result",
          "data": {
            "text/plain": [
              "0.6346153846153846"
            ]
          },
          "metadata": {},
          "execution_count": 101
        }
      ]
    },
    {
      "cell_type": "code",
      "source": [
        "#model 4: GBTClassifier via OneVsRest\n",
        "gbt = GBTClassifier(labelCol=\"class\", featuresCol=\"features\", maxIter=20)\n",
        "ovr = OneVsRest(classifier=gbt, labelCol=\"class\", featuresCol=\"features\")\n",
        "paramGrid_gbt = ParamGridBuilder().build()\n",
        "cv_ovr = CrossValidator(estimator=ovr, estimatorParamMaps=paramGrid_gbt, evaluator=evaluator, numFolds=3)\n",
        "ovr_model = cv_ovr.fit(train)\n",
        "best_ovr = ovr_model.bestModel\n",
        "acc_ovr = evaluator.evaluate(ovr_model.transform(test))\n",
        "results.append(Row(Method=\"GBT OneVsRest\", Parameters=\"maxIter=20\", Accuracy=round(acc_ovr, 4)))\n"
      ],
      "metadata": {
        "id": "rpQHfGB2S3Ga"
      },
      "execution_count": 102,
      "outputs": []
    },
    {
      "cell_type": "code",
      "source": [
        "acc_ovr"
      ],
      "metadata": {
        "colab": {
          "base_uri": "https://localhost:8080/"
        },
        "id": "ZuSGXtG-UcPF",
        "outputId": "d11e93b0-ed36-41c2-b72a-9e6d2e15a6c3"
      },
      "execution_count": 103,
      "outputs": [
        {
          "output_type": "execute_result",
          "data": {
            "text/plain": [
              "0.5"
            ]
          },
          "metadata": {},
          "execution_count": 103
        }
      ]
    },
    {
      "cell_type": "code",
      "source": [
        "df"
      ],
      "metadata": {
        "colab": {
          "base_uri": "https://localhost:8080/"
        },
        "id": "CX1wzO9Bb19F",
        "outputId": "e0459e9f-6210-4c93-81b4-86625fa2ba00"
      },
      "execution_count": 104,
      "outputs": [
        {
          "output_type": "execute_result",
          "data": {
            "text/plain": [
              "DataFrame[features: vector, class: int]"
            ]
          },
          "metadata": {},
          "execution_count": 104
        }
      ]
    },
    {
      "cell_type": "code",
      "source": [
        "#model 4: Naive Bayes\n",
        "nb = NaiveBayes(labelCol=\"class\", featuresCol=\"features\", modelType=\"multinomial\")\n",
        "paramGrid_nb = ParamGridBuilder().addGrid(nb.smoothing, [0.5, 1.0, 1.5]).build()\n",
        "cv_nb = CrossValidator(estimator=nb, estimatorParamMaps=paramGrid_nb, evaluator=evaluator, numFolds=3)\n",
        "nb_model = cv_nb.fit(train)\n",
        "acc_nb = evaluator.evaluate(nb_model.transform(test))\n",
        "best_nb = nb_model.bestModel\n",
        "nb_params = f\"smoothing={best_nb.getSmoothing()}\"\n",
        "results.append(Row(Method=\"Naive Bayes\", Parameters=nb_params, Accuracy=round(acc_nb, 4)))\n"
      ],
      "metadata": {
        "id": "UMvo1EKPbUdT"
      },
      "execution_count": 105,
      "outputs": []
    },
    {
      "cell_type": "code",
      "source": [
        "acc_nb"
      ],
      "metadata": {
        "colab": {
          "base_uri": "https://localhost:8080/"
        },
        "id": "ZkHTfWSBbyQm",
        "outputId": "b717be35-49a2-41a9-9765-f7a886831f1b"
      },
      "execution_count": 106,
      "outputs": [
        {
          "output_type": "execute_result",
          "data": {
            "text/plain": [
              "0.019230769230769232"
            ]
          },
          "metadata": {},
          "execution_count": 106
        }
      ]
    },
    {
      "cell_type": "code",
      "source": [
        "final_df = spark.createDataFrame(results)\n",
        "final_df.show(truncate=False)"
      ],
      "metadata": {
        "colab": {
          "base_uri": "https://localhost:8080/"
        },
        "id": "Uh9iTKItcHu0",
        "outputId": "ea77a6d3-02a9-43e3-e537-406c3201679e"
      },
      "execution_count": 110,
      "outputs": [
        {
          "output_type": "stream",
          "name": "stdout",
          "text": [
            "+-------------------+-------------+--------+\n",
            "|Method             |Parameters   |Accuracy|\n",
            "+-------------------+-------------+--------+\n",
            "|Decision Tree      |maxDepth=10  |0.6346  |\n",
            "|Random Forest      |numTrees=30  |0.6731  |\n",
            "|Logistic Regression|regParam=0.01|0.6346  |\n",
            "|GBT OneVsRest      |maxIter=20   |0.5     |\n",
            "|Naive Bayes        |smoothing=1.5|0.0192  |\n",
            "+-------------------+-------------+--------+\n",
            "\n"
          ]
        }
      ]
    }
  ]
}